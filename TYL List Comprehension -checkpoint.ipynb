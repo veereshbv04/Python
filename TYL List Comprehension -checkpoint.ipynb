{
 "cells": [
  {
   "cell_type": "markdown",
   "metadata": {},
   "source": [
    "# Topic : List Comprehension Problems"
   ]
  },
  {
   "cell_type": "markdown",
   "metadata": {},
   "source": [
    "# 23-09-2020      Wednesday\n",
    "\n",
    "\n"
   ]
  },
  {
   "cell_type": "markdown",
   "metadata": {},
   "source": [
    "# 1. Write a program to print numbers from 1 to 100 but replace multiples of with the word &#39;cat&#39;"
   ]
  },
  {
   "cell_type": "code",
   "execution_count": 1,
   "metadata": {},
   "outputs": [
    {
     "name": "stdout",
     "output_type": "stream",
     "text": [
      "[1, 2, 'cat', 4, 5, 'cat', 7, 8, 'cat', 10, 11, 'cat', 13, 14, 'cat', 16, 17, 'cat', 19, 20, 'cat', 22, 23, 'cat', 25, 26, 'cat', 28, 29, 'cat', 31, 32, 'cat', 34, 35, 'cat', 37, 38, 'cat', 40, 41, 'cat', 43, 44, 'cat', 46, 47, 'cat', 49, 50, 'cat', 52, 53, 'cat', 55, 56, 'cat', 58, 59, 'cat', 61, 62, 'cat', 64, 65, 'cat', 67, 68, 'cat', 70, 71, 'cat', 73, 74, 'cat', 76, 77, 'cat', 79, 80, 'cat', 82, 83, 'cat', 85, 86, 'cat', 88, 89, 'cat', 91, 92, 'cat', 94, 95, 'cat', 97, 98, 'cat', 100]"
     ]
    }
   ],
   "source": [
    "li=[i if i%3!=0 else \"cat\" for i in range(1,101)]\n",
    "print(li,end=\"\")\n"
   ]
  },
  {
   "cell_type": "markdown",
   "metadata": {},
   "source": [
    "# 2. Create a dictionary with a number as key and its double as the value , for numbers from 10 to 20"
   ]
  },
  {
   "cell_type": "code",
   "execution_count": 2,
   "metadata": {},
   "outputs": [
    {
     "data": {
      "text/plain": [
       "{10: 100,\n",
       " 11: 121,\n",
       " 12: 144,\n",
       " 13: 169,\n",
       " 14: 196,\n",
       " 15: 225,\n",
       " 16: 256,\n",
       " 17: 289,\n",
       " 18: 324,\n",
       " 19: 361,\n",
       " 20: 400}"
      ]
     },
     "execution_count": 2,
     "metadata": {},
     "output_type": "execute_result"
    }
   ],
   "source": [
    "di={i:i**2 for i in range(10,21)}\n",
    "di"
   ]
  },
  {
   "cell_type": "markdown",
   "metadata": {},
   "source": [
    "# 3. Use list comprehension to convert a string in uppercase to lower case.word]=&#39;HELLO&#39;"
   ]
  },
  {
   "cell_type": "code",
   "execution_count": 3,
   "metadata": {},
   "outputs": [
    {
     "name": "stdout",
     "output_type": "stream",
     "text": [
      "HellO\n",
      "hello\n"
     ]
    }
   ],
   "source": [
    "w=input()\n",
    "print(\"\".join(w.lower() for w in w))"
   ]
  },
  {
   "cell_type": "markdown",
   "metadata": {},
   "source": [
    "# 4. Print list of numbers divisible by 3 but not by 7 in the range 2100 and 2500"
   ]
  },
  {
   "cell_type": "code",
   "execution_count": 4,
   "metadata": {},
   "outputs": [
    {
     "name": "stdout",
     "output_type": "stream",
     "text": [
      "[2103, 2106, 2109, 2112, 2115, 2118, 2124, 2127, 2130, 2133, 2136, 2139, 2145, 2148, 2151, 2154, 2157, 2160, 2166, 2169, 2172, 2175, 2178, 2181, 2187, 2190, 2193, 2196, 2199, 2202, 2208, 2211, 2214, 2217, 2220, 2223, 2229, 2232, 2235, 2238, 2241, 2244, 2250, 2253, 2256, 2259, 2262, 2265, 2271, 2274, 2277, 2280, 2283, 2286, 2292, 2295, 2298, 2301, 2304, 2307, 2313, 2316, 2319, 2322, 2325, 2328, 2334, 2337, 2340, 2343, 2346, 2349, 2355, 2358, 2361, 2364, 2367, 2370, 2376, 2379, 2382, 2385, 2388, 2391, 2397, 2400, 2403, 2406, 2409, 2412, 2418, 2421, 2424, 2427, 2430, 2433, 2439, 2442, 2445, 2448, 2451, 2454, 2460, 2463, 2466, 2469, 2472, 2475, 2481, 2484, 2487, 2490, 2493, 2496]"
     ]
    }
   ],
   "source": [
    "li=[x for x in range(2100,2500) if x%3==0 and x%7!=0 ]\n",
    "print(li,end='')"
   ]
  },
  {
   "cell_type": "markdown",
   "metadata": {},
   "source": [
    "# 5. Given a list of numbers convert them into comma separated single string."
   ]
  },
  {
   "cell_type": "code",
   "execution_count": 5,
   "metadata": {},
   "outputs": [
    {
     "name": "stdout",
     "output_type": "stream",
     "text": [
      "<class 'list'>\n",
      "1,2,3,5,4,8,8,9,10\n",
      "<class 'str'>\n"
     ]
    }
   ],
   "source": [
    "lst=[1,2,3,5,4,8,8,9,10]\n",
    "stri=[str(x) for x in lst]\n",
    "s=\",\".join(stri)\n",
    "print(type(lst))\n",
    "print(s)\n",
    "print(type(s))"
   ]
  },
  {
   "cell_type": "markdown",
   "metadata": {},
   "source": [
    "# 6. Count the number of spaces in a string\n",
    "Solution:"
   ]
  },
  {
   "cell_type": "code",
   "execution_count": 6,
   "metadata": {},
   "outputs": [
    {
     "data": {
      "text/plain": [
       "6"
      ]
     },
     "execution_count": 6,
     "metadata": {},
     "output_type": "execute_result"
    }
   ],
   "source": [
    "s=\"Hello this is Python Code,I Love Python\"\n",
    "space=[x for x in s if x==\" \"]\n",
    "len(space)\n",
    "\n"
   ]
  },
  {
   "cell_type": "markdown",
   "metadata": {},
   "source": [
    "# 7.Remove all vowels of a string\n",
    "Solution:\n"
   ]
  },
  {
   "cell_type": "code",
   "execution_count": 7,
   "metadata": {},
   "outputs": [
    {
     "name": "stdout",
     "output_type": "stream",
     "text": [
      "HllWrld\n"
     ]
    }
   ],
   "source": [
    "n=\"Hello World\"\n",
    "print(\"\".join(x for x in n if x not in \"AEIOUaeiou \"))#space is included intentionally,so that space in the string is also not printed"
   ]
  },
  {
   "cell_type": "markdown",
   "metadata": {},
   "source": [
    "# 8. Remove all words in list of strings which 3 or less characters"
   ]
  },
  {
   "cell_type": "code",
   "execution_count": 8,
   "metadata": {},
   "outputs": [
    {
     "name": "stdout",
     "output_type": "stream",
     "text": [
      "['Today', 'is', 'the', 'tommorrow', ',which', 'you', 'imagined', 'yestetday']\n",
      "<class 'list'>\n",
      "Todaytommorrow,whichimaginedyestetday\n"
     ]
    }
   ],
   "source": [
    "n=\"Today is the tommorrow ,which you imagined yestetday\"\n",
    "l=n.split()\n",
    "print(l)\n",
    "print(type(l))\n",
    "print(\"\".join([x for x in l if len(x)>3]))\n"
   ]
  },
  {
   "cell_type": "markdown",
   "metadata": {},
   "source": [
    "# 9. A list of all the capital letters (and not white space) in &#39;The Quick Brown Fox Jumped Over The Lazy Dog&#39;"
   ]
  },
  {
   "cell_type": "code",
   "execution_count": 9,
   "metadata": {},
   "outputs": [
    {
     "data": {
      "text/plain": [
       "['T', 'Q', 'B', 'F', 'T', 'L', 'D']"
      ]
     },
     "execution_count": 9,
     "metadata": {},
     "output_type": "execute_result"
    }
   ],
   "source": [
    "s='The Quick Brown Fox jumped over The Lazy Dog'\n",
    "x=[x[0] for x in s.split() if x[0].isupper()]\n",
    "x"
   ]
  },
  {
   "cell_type": "markdown",
   "metadata": {},
   "source": [
    "\n",
    "# 10. Count the number of spaces in a string"
   ]
  },
  {
   "cell_type": "code",
   "execution_count": 10,
   "metadata": {},
   "outputs": [
    {
     "name": "stdout",
     "output_type": "stream",
     "text": [
      "8\n"
     ]
    }
   ],
   "source": [
    "s='The Quick Brown Fox jumped over The Lazy Dog'\n",
    "print(len([x for x in s if x==\" \"]))"
   ]
  },
  {
   "cell_type": "markdown",
   "metadata": {},
   "source": [
    "# 11. Replace all vowels in a string with &#39;*&#39;"
   ]
  },
  {
   "cell_type": "code",
   "execution_count": 14,
   "metadata": {},
   "outputs": [
    {
     "name": "stdout",
     "output_type": "stream",
     "text": [
      "St*y H*mbl*,St*y F**l*sh\n"
     ]
    }
   ],
   "source": [
    "s=\"Stay Humble,Stay Foolish\"\n",
    "print(''.join([x if x not in \"AEIOUaeiou\" else \"*\" for x in s]))"
   ]
  },
  {
   "cell_type": "code",
   "execution_count": null,
   "metadata": {},
   "outputs": [],
   "source": []
  }
 ],
 "metadata": {
  "kernelspec": {
   "display_name": "Python 3",
   "language": "python",
   "name": "python3"
  },
  "language_info": {
   "codemirror_mode": {
    "name": "ipython",
    "version": 3
   },
   "file_extension": ".py",
   "mimetype": "text/x-python",
   "name": "python",
   "nbconvert_exporter": "python",
   "pygments_lexer": "ipython3",
   "version": "3.8.3"
  }
 },
 "nbformat": 4,
 "nbformat_minor": 4
}
