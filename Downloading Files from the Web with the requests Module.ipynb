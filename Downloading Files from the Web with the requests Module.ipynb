{
 "cells": [
  {
   "cell_type": "markdown",
   "metadata": {},
   "source": [
    "# Downloading Files from the Web with the requests Module"
   ]
  },
  {
   "cell_type": "markdown",
   "metadata": {},
   "source": [
    "The requests module lets you easily download files from the Web without\n",
    "having to worry about complicated issues such as network errors, connection problems, and data compression. The requests module doesn’t come\n",
    "with Python, so you’ll have to install it first. From the command line, run\n",
    "pip install requests."
   ]
  },
  {
   "cell_type": "markdown",
   "metadata": {},
   "source": [
    "# Downloading a Web Page with the requests.get() Function"
   ]
  },
  {
   "cell_type": "markdown",
   "metadata": {},
   "source": [
    "The requests.get() function takes a string of a URL to download. By calling\n",
    "type() on requests.get()’s return value, you can see that it returns a Response\n",
    "object, which contains the response that the web server gave for your request."
   ]
  },
  {
   "cell_type": "code",
   "execution_count": 1,
   "metadata": {},
   "outputs": [
    {
     "data": {
      "text/plain": [
       "requests.models.Response"
      ]
     },
     "execution_count": 1,
     "metadata": {},
     "output_type": "execute_result"
    }
   ],
   "source": [
    "import requests\n",
    "res = requests.get('https://automatetheboringstuff.com/files/rj.txt')\n",
    "type(res)\n"
   ]
  },
  {
   "cell_type": "markdown",
   "metadata": {},
   "source": [
    "The above url points to the text file present in the website"
   ]
  },
  {
   "cell_type": "markdown",
   "metadata": {},
   "source": [
    "You can check whether the request you made is successfull by checking for the status code as follows"
   ]
  },
  {
   "cell_type": "code",
   "execution_count": 2,
   "metadata": {},
   "outputs": [
    {
     "data": {
      "text/plain": [
       "True"
      ]
     },
     "execution_count": 2,
     "metadata": {},
     "output_type": "execute_result"
    }
   ],
   "source": [
    " res.status_code == requests.codes.ok"
   ]
  },
  {
   "cell_type": "code",
   "execution_count": 3,
   "metadata": {},
   "outputs": [
    {
     "data": {
      "text/plain": [
       "178978"
      ]
     },
     "execution_count": 3,
     "metadata": {},
     "output_type": "execute_result"
    }
   ],
   "source": [
    "len(res.text)"
   ]
  },
  {
   "cell_type": "markdown",
   "metadata": {},
   "source": [
    "If the request succeeded, the downloaded web page is stored as a string\n",
    "in the Response object’s text variable."
   ]
  },
  {
   "cell_type": "markdown",
   "metadata": {},
   "source": [
    "This variable holds a large string of\n",
    "the entire play; the call to len(res.text) shows you that it is more than\n",
    "178,000 characters long. Finally, calling print(res.text[:250]) displays only\n",
    "the first 250 characters."
   ]
  },
  {
   "cell_type": "code",
   "execution_count": 4,
   "metadata": {},
   "outputs": [
    {
     "name": "stdout",
     "output_type": "stream",
     "text": [
      "The Project Gutenberg EBook of Romeo and Juliet, by William Shakespeare\r\n",
      "\r\n",
      "This eBook is for the use of anyone anywhere at no cost and with\r\n",
      "almost no restrictions whatsoever.  You may copy it, give it away or\r\n",
      "re-use it under the terms of the Projec\n"
     ]
    }
   ],
   "source": [
    "print(res.text[:250])"
   ]
  },
  {
   "cell_type": "markdown",
   "metadata": {},
   "source": [
    "# checking for errors using : raise_for_status() method"
   ]
  },
  {
   "cell_type": "markdown",
   "metadata": {},
   "source": [
    "A Simple way to check for success is to call the raise_for_status() method on\n",
    "the Response object. This will raise an exception if there was an error downloading the file and will do nothing if the download succeeded."
   ]
  },
  {
   "cell_type": "code",
   "execution_count": 5,
   "metadata": {},
   "outputs": [],
   "source": [
    "res.raise_for_status()"
   ]
  },
  {
   "cell_type": "markdown",
   "metadata": {},
   "source": [
    "# Saving Downloaded Files to the Hard Drive"
   ]
  },
  {
   "cell_type": "markdown",
   "metadata": {},
   "source": [
    "This can be done using standard open() function and write() methods ."
   ]
  },
  {
   "cell_type": "markdown",
   "metadata": {},
   "source": [
    "First, you must open the file in write binary mode by passing\n",
    "the string 'wb' as the second argument to open(). "
   ]
  },
  {
   "cell_type": "markdown",
   "metadata": {},
   "source": [
    "Even if the page is in plaintext (such as the Romeo and Juliet text you downloaded earlier), you need to\n",
    "write binary data instead of text data in order to maintain the Unicode encoding of the text."
   ]
  },
  {
   "cell_type": "markdown",
   "metadata": {},
   "source": [
    "To write the web page to a file, you can use a for loop with the Response\n",
    "object’s iter_content() method."
   ]
  },
  {
   "cell_type": "code",
   "execution_count": 6,
   "metadata": {},
   "outputs": [],
   "source": [
    "playFile = open('RomeoAndJuliet.txt', 'wb') \n"
   ]
  },
  {
   "cell_type": "code",
   "execution_count": 7,
   "metadata": {},
   "outputs": [],
   "source": [
    "for chunk in res.iter_content(100000):\n",
    " playFile.write(chunk)"
   ]
  },
  {
   "cell_type": "code",
   "execution_count": 8,
   "metadata": {},
   "outputs": [],
   "source": [
    "playFile.close()"
   ]
  },
  {
   "cell_type": "markdown",
   "metadata": {},
   "source": [
    "The iter_content() method returns “chunks” of the content on each\n",
    "iteration through the loop. Each chunk is of the bytes data type, and you\n",
    "get to specify how many bytes each chunk will contain. One hundred\n",
    "thousand bytes is generally a good size, so pass 100000 as the argument to\n",
    "iter_content()."
   ]
  },
  {
   "cell_type": "markdown",
   "metadata": {},
   "source": [
    "The file RomeoAndJuliet.txt will now exist in the current working directory"
   ]
  },
  {
   "cell_type": "markdown",
   "metadata": {},
   "source": [
    "Even if you were to lose your Internet connection after downloading the web page, all the page data would still be on\n",
    "your computer."
   ]
  },
  {
   "cell_type": "raw",
   "metadata": {},
   "source": [
    "To review, here’s the complete process for downloading and saving a file:\n",
    "    \n",
    "1. Call requests.get() to download the file.\n",
    "\n",
    "2. Call open() with 'wb' to create a new file in write binary mode.\n",
    "\n",
    "3. Loop over the Response object’s iter_content() method.\n",
    "\n",
    "4. Call write() on each iteration to write the content to the file.\n",
    "\n",
    "5. Call close() to close the file."
   ]
  },
  {
   "cell_type": "markdown",
   "metadata": {},
   "source": [
    "# Credits : Al Sweigart's  Automate The Boring Stuff Using Python"
   ]
  }
 ],
 "metadata": {
  "kernelspec": {
   "display_name": "Python 3",
   "language": "python",
   "name": "python3"
  },
  "language_info": {
   "codemirror_mode": {
    "name": "ipython",
    "version": 3
   },
   "file_extension": ".py",
   "mimetype": "text/x-python",
   "name": "python",
   "nbconvert_exporter": "python",
   "pygments_lexer": "ipython3",
   "version": "3.8.3"
  }
 },
 "nbformat": 4,
 "nbformat_minor": 4
}
