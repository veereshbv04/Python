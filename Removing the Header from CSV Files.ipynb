{
 "cells": [
  {
   "cell_type": "markdown",
   "metadata": {},
   "source": [
    "# Python  Project\n",
    "\n",
    "# Removing the Header from CSV Files"
   ]
  },
  {
   "cell_type": "markdown",
   "metadata": {},
   "source": [
    "Say you have the boring job of removing the first line from several hundred\n",
    "CSV files. Maybe you’ll be feeding them into an automated process that\n",
    "requires just the data and not the headers at the top of the columns. You\n",
    "could open each file in Excel, delete the first row, and resave the file—but\n",
    "that would take hours."
   ]
  },
  {
   "cell_type": "markdown",
   "metadata": {},
   "source": [
    "But Python program literally takes few seconds to do it for you"
   ]
  },
  {
   "cell_type": "markdown",
   "metadata": {},
   "source": [
    "The program will need to open every file with the .csv extension in the\n",
    "current working directory, read in the contents of the CSV file, and rewrite\n",
    "the contents without the first row to a file of the same name. This will\n",
    "replace the old contents of the CSV file with the new, headless contents"
   ]
  },
  {
   "cell_type": "raw",
   "metadata": {},
   "source": [
    "At a high level, the program must do the following:\n",
    "    \n",
    "•\t Find all the CSV files in the current working directory.\n",
    "•\t Read in the full contents of each file.\n",
    "•\t Write out the contents, skipping the first line, to a new CSV file.\n"
   ]
  },
  {
   "cell_type": "raw",
   "metadata": {},
   "source": [
    "At the code level, this means the program will need to do the following:\n",
    "    \n",
    "•\t Loop over a list of files from os.listdir(), skipping the non-CSV files.\n",
    "•\t Create a CSV Reader object and read in the contents of the file, using\n",
    "     the line_num attribute to figure out which line to skip.\n",
    "•\t Create a CSV Writer object and write out the read-in data to the new file."
   ]
  },
  {
   "cell_type": "markdown",
   "metadata": {},
   "source": [
    "For this project, open a new file editor window and save it as\n",
    "removeCsvHeader.py."
   ]
  },
  {
   "cell_type": "markdown",
   "metadata": {},
   "source": [
    "We do this project in 3 steps"
   ]
  },
  {
   "cell_type": "markdown",
   "metadata": {},
   "source": [
    "# Step 1: Loop Through Each CSV File"
   ]
  },
  {
   "cell_type": "markdown",
   "metadata": {},
   "source": [
    "The first thing your program needs to do is loop over a list of all CSV filenames for the current working directory."
   ]
  },
  {
   "cell_type": "code",
   "execution_count": 2,
   "metadata": {},
   "outputs": [],
   "source": [
    "import csv, os\n",
    "os.makedirs('headerRemoved', exist_ok=True)"
   ]
  },
  {
   "cell_type": "code",
   "execution_count": 10,
   "metadata": {},
   "outputs": [
    {
     "name": "stdout",
     "output_type": "stream",
     "text": [
      "Removing header from example.csv...\n"
     ]
    }
   ],
   "source": [
    "for csvFilename in os.listdir('.'):\n",
    " if not csvFilename.endswith('.csv'):\n",
    "    continue # skip non-csv files\n",
    " print('Removing header from ' + csvFilename + '...')"
   ]
  },
  {
   "cell_type": "markdown",
   "metadata": {},
   "source": [
    "The os.makedirs() call will create a headerRemoved folder where all the headless CSV files will be written."
   ]
  },
  {
   "cell_type": "markdown",
   "metadata": {},
   "source": [
    "A for loop on os.listdir('.') gets you partway\n",
    "there, but it will loop over all files in the working directory, so you’ll need\n",
    "to add some code at the start of the loop that skips filenames that don’t end\n",
    "with .csv. "
   ]
  },
  {
   "cell_type": "markdown",
   "metadata": {},
   "source": [
    "The continue statement makes the for loop move on to the next\n",
    "filename when it comes across a non-CSV file"
   ]
  },
  {
   "cell_type": "markdown",
   "metadata": {},
   "source": [
    " print out a message\n",
    "saying which CSV file the program is working on. Then, add some TODO comments for what the rest of the program should do."
   ]
  },
  {
   "cell_type": "markdown",
   "metadata": {},
   "source": [
    "# Step 2: Read in the CSV File"
   ]
  },
  {
   "cell_type": "code",
   "execution_count": null,
   "metadata": {},
   "outputs": [],
   "source": [
    "# Read the CSV file in (skipping first row).\n",
    "\n",
    "csvRows = []\n",
    "csvFileObj = open(csvFilename)\n",
    "readerObj = csv.reader(csvFileObj)\n",
    "for row in readerObj:\n",
    "    if readerObj.line_num == 1:\n",
    "        continue # skip first row\n",
    "    csvRows.append(row)\n",
    "csvFileObj.close()"
   ]
  },
  {
   "cell_type": "markdown",
   "metadata": {},
   "source": [
    "The Reader object’s line_num attribute can be used to determine which\n",
    "line in the CSV file it is currently reading. Another for loop will loop over\n",
    "the rows returned from the CSV Reader object, and all rows but the first will\n",
    "be appended to csvRows."
   ]
  },
  {
   "cell_type": "markdown",
   "metadata": {},
   "source": [
    "As the for loop iterates over each row, the code checks whether\n",
    "readerObj.line_num is set to 1. If so, it executes a continue to move on to the\n",
    "next row without appending it to csvRows. For every row afterward, the\n",
    "condition will be always be False, and the row will be appended to csvRows."
   ]
  },
  {
   "cell_type": "markdown",
   "metadata": {},
   "source": [
    "# Step 3: Write Out the CSV File Without the First Row"
   ]
  },
  {
   "cell_type": "markdown",
   "metadata": {},
   "source": [
    "Now that csvRows contains all rows but the first row, the list needs to be\n",
    "written out to a CSV file in the headerRemoved folder. Add the following\n",
    "to your code"
   ]
  },
  {
   "cell_type": "code",
   "execution_count": 15,
   "metadata": {},
   "outputs": [],
   "source": [
    " # Write out the CSV file.\n",
    "csvFileObj = open(os.path.join('headerRemoved', csvFilename), 'w',\n",
    "newline='')\n",
    "csvWriter = csv.writer(csvFileObj)\n",
    "for row in csvRows:\n",
    "  csvWriter.writerow(row)\n",
    "csvFileObj.close()"
   ]
  },
  {
   "cell_type": "markdown",
   "metadata": {},
   "source": [
    "The CSV Writer object will write the list to a CSV file in headerRemoved\n",
    "using csvFilename (which we also used in the CSV reader). This will overwrite the original file."
   ]
  },
  {
   "cell_type": "markdown",
   "metadata": {},
   "source": [
    "After the code is executed, the outer for loop u will loop to the next\n",
    "filename from os.listdir('.'). When that loop is finished, the program will\n",
    "be complete."
   ]
  },
  {
   "cell_type": "markdown",
   "metadata": {},
   "source": [
    "# Execute this below code in the directory where your CSV files are present"
   ]
  },
  {
   "cell_type": "code",
   "execution_count": 16,
   "metadata": {},
   "outputs": [
    {
     "name": "stdout",
     "output_type": "stream",
     "text": [
      "Removing header from example.csv...\n"
     ]
    }
   ],
   "source": [
    "# The entire code is this below\n",
    "\n",
    "import csv, os\n",
    "os.makedirs('headerRemoved', exist_ok=True)\n",
    "for csvFilename in os.listdir('.'):\n",
    "    if not csvFilename.endswith('.csv'):\n",
    "        continue # skip non-csv files\n",
    "    print('Removing header from ' + csvFilename + '...')\n",
    "\n",
    " # Read the CSV file in (skipping first row).\n",
    "\n",
    "    csvRows = []\n",
    "    csvFileObj = open(csvFilename)\n",
    "    readerObj = csv.reader(csvFileObj)\n",
    "    for row in readerObj:\n",
    "        if readerObj.line_num == 1:\n",
    "            continue # skip first row\n",
    "        csvRows.append(row)\n",
    "    csvFileObj.close()\n",
    "\n",
    " # Write out the CSV file.\n",
    "\n",
    "    csvFileObj = open(os.path.join('headerRemoved', csvFilename), 'w',newline='')\n",
    "    csvWriter = csv.writer(csvFileObj)\n",
    "    for row in csvRows:\n",
    "      csvWriter.writerow(row)\n",
    "    csvFileObj.close()"
   ]
  },
  {
   "cell_type": "markdown",
   "metadata": {},
   "source": [
    "# Credits : Al Sweigart's Automate The Boring Stuff With Python"
   ]
  }
 ],
 "metadata": {
  "kernelspec": {
   "display_name": "Python 3",
   "language": "python",
   "name": "python3"
  },
  "language_info": {
   "codemirror_mode": {
    "name": "ipython",
    "version": 3
   },
   "file_extension": ".py",
   "mimetype": "text/x-python",
   "name": "python",
   "nbconvert_exporter": "python",
   "pygments_lexer": "ipython3",
   "version": "3.8.3"
  }
 },
 "nbformat": 4,
 "nbformat_minor": 4
}
