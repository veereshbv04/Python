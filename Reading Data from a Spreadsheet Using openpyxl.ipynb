{
 "cells": [
  {
   "cell_type": "markdown",
   "metadata": {},
   "source": [
    "# Python Project \n",
    "\n",
    "# Reading Data from a Spreadsheet"
   ]
  },
  {
   "cell_type": "markdown",
   "metadata": {},
   "source": [
    "Say you have a spreadsheet of data from the 2010 US Census and you\n",
    "have the boring task of going through its thousands of rows to count both\n",
    "the total population and the number of census tracts for each county. (A\n",
    "census tract is simply a geographic area defined for the purposes of the\n",
    "census.) Each row represents a single census tract."
   ]
  },
  {
   "cell_type": "markdown",
   "metadata": {},
   "source": [
    " We’ll name the spreadsheet file censuspopdata.xlsx, and you can download it from http://nostarch\n",
    ".com/automatestuff/"
   ]
  },
  {
   "cell_type": "raw",
   "metadata": {},
   "source": [
    "This is what we do this in this project:\n",
    "\n",
    "•\t Reads the data from the Excel spreadsheet.\n",
    "•\t Counts the number of census tracts in each county.\n",
    "•\t Counts the total population of each county.\n",
    "•\t Prints the results.\n",
    "\n",
    "This means we  need to do the following:\n",
    "\n",
    "•\t Open and read the cells of an Excel document with the openpyxl module.\n",
    "•\t Calculate all the tract and population data and store it in a data structure.\n",
    "•\t Write the data structure to a text file with the .py extension using the  pprint module."
   ]
  },
  {
   "cell_type": "markdown",
   "metadata": {},
   "source": [
    "# we do this project in 3 Steps\n",
    "\n",
    "# Step 1: Read the Spreadsheet Data"
   ]
  },
  {
   "cell_type": "markdown",
   "metadata": {},
   "source": [
    "There is just one sheet in the censuspopdata.xlsx spreadsheet, named\n",
    "'Population by Census Tract'"
   ]
  },
  {
   "cell_type": "markdown",
   "metadata": {},
   "source": [
    "and each row holds the data for a single census tract. The columns are the tract number (A), the state abbreviation (B),\n",
    "the county name (C), and the population of the tract (D)."
   ]
  },
  {
   "cell_type": "markdown",
   "metadata": {},
   "source": [
    "imports the openpyxl module, as well as the pprint module that\n",
    "you’ll use to print the final county data to a new file"
   ]
  },
  {
   "cell_type": "code",
   "execution_count": 1,
   "metadata": {},
   "outputs": [],
   "source": [
    "import openpyxl, pprint"
   ]
  },
  {
   "cell_type": "markdown",
   "metadata": {},
   "source": [
    "Then open the censuspopdata.xlsx file  and load it into the variable 'wb'"
   ]
  },
  {
   "cell_type": "markdown",
   "metadata": {},
   "source": [
    "get the sheet with the census data w, and begins iterating over\n",
    "its rows x."
   ]
  },
  {
   "cell_type": "code",
   "execution_count": 4,
   "metadata": {},
   "outputs": [
    {
     "name": "stderr",
     "output_type": "stream",
     "text": [
      "<ipython-input-4-8aed21c17717>:2: DeprecationWarning: Call to deprecated function get_sheet_by_name (Use wb[sheetname]).\n",
      "  sheet = wb.get_sheet_by_name('Population by Census Tract')\n"
     ]
    }
   ],
   "source": [
    "wb = openpyxl.load_workbook('censuspopdata.xlsx')\n",
    "sheet = wb.get_sheet_by_name('Population by Census Tract')\n",
    "countyData = {}"
   ]
  },
  {
   "cell_type": "markdown",
   "metadata": {},
   "source": [
    "countyData will\n",
    "contain the populations and number of tracts you calculate for each county.\n",
    "Before you can store anything in it, though, you should determine exactly\n",
    "how you’ll structure the data inside it."
   ]
  },
  {
   "cell_type": "markdown",
   "metadata": {},
   "source": [
    "# Step 2: Populate the Data Structure"
   ]
  },
  {
   "cell_type": "raw",
   "metadata": {},
   "source": [
    "The data structure stored in countyData will be a dictionary with state abbreviations as its keys. \n",
    "\n",
    "Each state abbreviation will map to another dictionary, whose keys are strings of the county names in that state.\n",
    "\n",
    "Each county name will in turn map to a dictionary with just two keys, 'tracts' and 'pop'. These keys map to the number of census tracts and population for the county\n"
   ]
  },
  {
   "cell_type": "raw",
   "metadata": {},
   "source": [
    "More generally, the countyData dictionary’s keys will look like this:\n",
    "    \n",
    "countyData[state abbrev][county]['tracts']\n",
    "\n",
    "countyData[state abbrev][county]['pop']"
   ]
  },
  {
   "cell_type": "markdown",
   "metadata": {},
   "source": [
    "You need to iterete over the rows of the sheet using for loops  and then calculate the tracts and the population \n",
    "\n"
   ]
  },
  {
   "cell_type": "code",
   "execution_count": 6,
   "metadata": {},
   "outputs": [
    {
     "ename": "AttributeError",
     "evalue": "'Worksheet' object has no attribute 'get_highest_row'",
     "output_type": "error",
     "traceback": [
      "\u001b[1;31m---------------------------------------------------------------------------\u001b[0m",
      "\u001b[1;31mAttributeError\u001b[0m                            Traceback (most recent call last)",
      "\u001b[1;32m<ipython-input-6-53f1139315e4>\u001b[0m in \u001b[0;36m<module>\u001b[1;34m\u001b[0m\n\u001b[1;32m----> 1\u001b[1;33m \u001b[1;32mfor\u001b[0m \u001b[0mrow\u001b[0m \u001b[1;32min\u001b[0m \u001b[0mrange\u001b[0m\u001b[1;33m(\u001b[0m\u001b[1;36m2\u001b[0m\u001b[1;33m,\u001b[0m \u001b[0msheet\u001b[0m\u001b[1;33m.\u001b[0m\u001b[0mget_highest_row\u001b[0m\u001b[1;33m(\u001b[0m\u001b[1;33m)\u001b[0m \u001b[1;33m+\u001b[0m \u001b[1;36m1\u001b[0m\u001b[1;33m)\u001b[0m\u001b[1;33m:\u001b[0m\u001b[1;33m\u001b[0m\u001b[1;33m\u001b[0m\u001b[0m\n\u001b[0m\u001b[0;32m      2\u001b[0m \u001b[1;33m\u001b[0m\u001b[0m\n\u001b[0;32m      3\u001b[0m  \u001b[1;31m# Each row in the spreadsheet has data for one census tract.\u001b[0m\u001b[1;33m\u001b[0m\u001b[1;33m\u001b[0m\u001b[1;33m\u001b[0m\u001b[0m\n\u001b[0;32m      4\u001b[0m  \u001b[0mstate\u001b[0m \u001b[1;33m=\u001b[0m \u001b[0msheet\u001b[0m\u001b[1;33m[\u001b[0m\u001b[1;34m'B'\u001b[0m \u001b[1;33m+\u001b[0m \u001b[0mstr\u001b[0m\u001b[1;33m(\u001b[0m\u001b[0mrow\u001b[0m\u001b[1;33m)\u001b[0m\u001b[1;33m]\u001b[0m\u001b[1;33m.\u001b[0m\u001b[0mvalue\u001b[0m\u001b[1;33m\u001b[0m\u001b[1;33m\u001b[0m\u001b[0m\n\u001b[0;32m      5\u001b[0m  \u001b[0mcounty\u001b[0m \u001b[1;33m=\u001b[0m \u001b[0msheet\u001b[0m\u001b[1;33m[\u001b[0m\u001b[1;34m'C'\u001b[0m \u001b[1;33m+\u001b[0m \u001b[0mstr\u001b[0m\u001b[1;33m(\u001b[0m\u001b[0mrow\u001b[0m\u001b[1;33m)\u001b[0m\u001b[1;33m]\u001b[0m\u001b[1;33m.\u001b[0m\u001b[0mvalue\u001b[0m\u001b[1;33m\u001b[0m\u001b[1;33m\u001b[0m\u001b[0m\n",
      "\u001b[1;31mAttributeError\u001b[0m: 'Worksheet' object has no attribute 'get_highest_row'"
     ]
    }
   ],
   "source": [
    "for row in range(2, sheet.get_highest_row() + 1):\n",
    "    \n",
    " # Each row in the spreadsheet has data for one census tract.\n",
    " state = sheet['B' + str(row)].value\n",
    " county = sheet['C' + str(row)].value\n",
    " pop = sheet['D' + str(row)].value\n",
    "    \n",
    "    \n",
    " # Make sure the key for this state exists.\n",
    " countyData.setdefault(state, {})\n",
    "    \n",
    " # Make sure the key for this county in this state exists.\n",
    " countyData[state].setdefault(county, {'tracts': 0, 'pop': 0})\n",
    "    \n",
    " # Each row represents one census tract, so increment by one.\n",
    " countyData[state][county]['tracts'] += 1\n",
    "    \n",
    " # Increase the county pop by the pop in this census tract.\n",
    " countyData[state][county]['pop'] += int(pop)"
   ]
  },
  {
   "cell_type": "raw",
   "metadata": {},
   "source": [
    "To make sure the state abbreviation key exists in your data structure, you need to call the setdefault() method to set a\n",
    "value if one does not already exist for state\n",
    "\n",
    "setdefault() sets the tract and pop values to 0 iniatilly \n",
    "\n",
    "Just as the countyData dictionary needs a dictionary as the value for each state abbreviation key, each of those dictionaries will need its own dictionary as the value for each county key\n",
    "\n",
    "And each of those dictionaries in turn\n",
    "will need keys 'tracts' and 'pop' that start with the integer value 0."
   ]
  },
  {
   "cell_type": "markdown",
   "metadata": {},
   "source": [
    "# Step 3: Write the Results to a File"
   ]
  },
  {
   "cell_type": "markdown",
   "metadata": {},
   "source": [
    "After the for loop has finished, the countyData dictionary will contain all\n",
    "of the population and tract information keyed by county and state."
   ]
  },
  {
   "cell_type": "markdown",
   "metadata": {},
   "source": [
    "Now let’s just use the pprint.pformat() function to\n",
    "write the countyData dictionary value as a massive string to a file named\n",
    "census2010.py. Add the following code to the bottom of your program"
   ]
  },
  {
   "cell_type": "code",
   "execution_count": 1,
   "metadata": {},
   "outputs": [
    {
     "name": "stdout",
     "output_type": "stream",
     "text": [
      "Writing results...\n"
     ]
    },
    {
     "ename": "NameError",
     "evalue": "name 'pprint' is not defined",
     "output_type": "error",
     "traceback": [
      "\u001b[1;31m---------------------------------------------------------------------------\u001b[0m",
      "\u001b[1;31mNameError\u001b[0m                                 Traceback (most recent call last)",
      "\u001b[1;32m<ipython-input-1-3a69c863120b>\u001b[0m in \u001b[0;36m<module>\u001b[1;34m\u001b[0m\n\u001b[0;32m      2\u001b[0m \u001b[0mprint\u001b[0m\u001b[1;33m(\u001b[0m\u001b[1;34m'Writing results...'\u001b[0m\u001b[1;33m)\u001b[0m\u001b[1;33m\u001b[0m\u001b[1;33m\u001b[0m\u001b[0m\n\u001b[0;32m      3\u001b[0m \u001b[0mresultFile\u001b[0m \u001b[1;33m=\u001b[0m \u001b[0mopen\u001b[0m\u001b[1;33m(\u001b[0m\u001b[1;34m'census2010.py'\u001b[0m\u001b[1;33m,\u001b[0m \u001b[1;34m'w'\u001b[0m\u001b[1;33m)\u001b[0m\u001b[1;33m\u001b[0m\u001b[1;33m\u001b[0m\u001b[0m\n\u001b[1;32m----> 4\u001b[1;33m \u001b[0mresultFile\u001b[0m\u001b[1;33m.\u001b[0m\u001b[0mwrite\u001b[0m\u001b[1;33m(\u001b[0m\u001b[1;34m'allData = '\u001b[0m \u001b[1;33m+\u001b[0m \u001b[0mpprint\u001b[0m\u001b[1;33m.\u001b[0m\u001b[0mpformat\u001b[0m\u001b[1;33m(\u001b[0m\u001b[0mcountyData\u001b[0m\u001b[1;33m)\u001b[0m\u001b[1;33m)\u001b[0m\u001b[1;33m\u001b[0m\u001b[1;33m\u001b[0m\u001b[0m\n\u001b[0m\u001b[0;32m      5\u001b[0m \u001b[0mresultFile\u001b[0m\u001b[1;33m.\u001b[0m\u001b[0mclose\u001b[0m\u001b[1;33m(\u001b[0m\u001b[1;33m)\u001b[0m\u001b[1;33m\u001b[0m\u001b[1;33m\u001b[0m\u001b[0m\n\u001b[0;32m      6\u001b[0m \u001b[0mprint\u001b[0m\u001b[1;33m(\u001b[0m\u001b[1;34m'Done.'\u001b[0m\u001b[1;33m)\u001b[0m\u001b[1;33m\u001b[0m\u001b[1;33m\u001b[0m\u001b[0m\n",
      "\u001b[1;31mNameError\u001b[0m: name 'pprint' is not defined"
     ]
    }
   ],
   "source": [
    "# Open a new text file and write the contents of countyData to it.\n",
    "print('Writing results...')\n",
    "resultFile = open('census2010.py', 'w')\n",
    "resultFile.write('allData = ' + pprint.pformat(countyData))\n",
    "resultFile.close()\n",
    "print('Done.')"
   ]
  },
  {
   "cell_type": "raw",
   "metadata": {},
   "source": [
    "The pprint.pformat() function produces a string that itself is formatted as valid Python code.\n",
    "\n",
    "By outputting it to a text file named census2010.py,\n",
    "you’ve generated a Python program file which you can use to retrive the data easily,\n",
    "just like getting functions and methods from a  modules"
   ]
  },
  {
   "cell_type": "code",
   "execution_count": 2,
   "metadata": {},
   "outputs": [
    {
     "ename": "NameError",
     "evalue": "name 'census2010' is not defined",
     "output_type": "error",
     "traceback": [
      "\u001b[1;31m---------------------------------------------------------------------------\u001b[0m",
      "\u001b[1;31mNameError\u001b[0m                                 Traceback (most recent call last)",
      "\u001b[1;32m<ipython-input-2-dccb27dca7d3>\u001b[0m in \u001b[0;36m<module>\u001b[1;34m\u001b[0m\n\u001b[1;32m----> 1\u001b[1;33m \u001b[0mcensus2010\u001b[0m\u001b[1;33m.\u001b[0m\u001b[0mallData\u001b[0m\u001b[1;33m[\u001b[0m\u001b[1;34m'AK'\u001b[0m\u001b[1;33m]\u001b[0m\u001b[1;33m[\u001b[0m\u001b[1;34m'Anchorage'\u001b[0m\u001b[1;33m]\u001b[0m\u001b[1;33m\u001b[0m\u001b[1;33m\u001b[0m\u001b[0m\n\u001b[0m",
      "\u001b[1;31mNameError\u001b[0m: name 'census2010' is not defined"
     ]
    }
   ],
   "source": [
    "census2010.allData['AK']['Anchorage']"
   ]
  },
  {
   "cell_type": "markdown",
   "metadata": {},
   "source": [
    "Whenever you need the county data, you can just run import census2010 ,and retrive data"
   ]
  },
  {
   "cell_type": "markdown",
   "metadata": {},
   "source": [
    "# Credits : Al Sweigart's Automate The Boring Stuff With Python"
   ]
  },
  {
   "cell_type": "code",
   "execution_count": null,
   "metadata": {},
   "outputs": [],
   "source": []
  }
 ],
 "metadata": {
  "kernelspec": {
   "display_name": "Python 3",
   "language": "python",
   "name": "python3"
  },
  "language_info": {
   "codemirror_mode": {
    "name": "ipython",
    "version": 3
   },
   "file_extension": ".py",
   "mimetype": "text/x-python",
   "name": "python",
   "nbconvert_exporter": "python",
   "pygments_lexer": "ipython3",
   "version": "3.8.3"
  }
 },
 "nbformat": 4,
 "nbformat_minor": 4
}
